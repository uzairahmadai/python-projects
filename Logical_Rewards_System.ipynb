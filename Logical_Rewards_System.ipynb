{
  "nbformat": 4,
  "nbformat_minor": 0,
  "metadata": {
    "colab": {
      "provenance": [],
      "authorship_tag": "ABX9TyNJFqF8q2bg0STpRrpYSVKs",
      "include_colab_link": true
    },
    "kernelspec": {
      "name": "python3",
      "display_name": "Python 3"
    },
    "language_info": {
      "name": "python"
    }
  },
  "cells": [
    {
      "cell_type": "markdown",
      "metadata": {
        "id": "view-in-github",
        "colab_type": "text"
      },
      "source": [
        "<a href=\"https://colab.research.google.com/github/uzairahmadai/python-projects/blob/main/Logical_Rewards_System.ipynb\" target=\"_parent\"><img src=\"https://colab.research.google.com/assets/colab-badge.svg\" alt=\"Open In Colab\"/></a>"
      ]
    },
    {
      "cell_type": "markdown",
      "source": [
        "# Python Project: Logical Rewards System  \n",
        "**Course:** Certified Agentic and Robotic AI Engineer (CAE) – PIAIC  \n",
        "**Concepts:** Logical Operators · and · or · Boolean Logic · Conditional Statements\n",
        "\n",
        "---\n",
        "\n",
        "### Project Description:\n",
        "This program simulates a simple game where rewards are given based on the player's actions:\n",
        "\n",
        "• A **big reward** is given if the player scores more than 100 **and** collects **all** the keys  \n",
        "• A **small reward** is given if the player either collects **at least one key** **or** completes the level  \n",
        "• If neither condition is met, the player gets **no reward**\n",
        "\n",
        "The project uses `and` / `or` operators to check combinations of boolean and numeric conditions."
      ],
      "metadata": {
        "id": "WkQXhUYMeRUh"
      }
    },
    {
      "cell_type": "code",
      "execution_count": 2,
      "metadata": {
        "colab": {
          "base_uri": "https://localhost:8080/"
        },
        "id": "Cw2PkMiDePzA",
        "outputId": "5e425450-5d81-4aa4-adb3-000abc1864a5"
      },
      "outputs": [
        {
          "output_type": "stream",
          "name": "stdout",
          "text": [
            "Enter your score: 89\n",
            "Did you collect all keys? (yes/no): yes\n",
            "Did you complete the level? (yes/no): yes\n",
            "Did you collect at least one key? (yes/no): no\n",
            "You win a SMALL reward!\n"
          ]
        }
      ],
      "source": [
        "# Project 3: Logical Rewards System\n",
        "\n",
        "# Inputs\n",
        "score: int = int(input(\"Enter your score: \"))\n",
        "collected_all_keys: bool = input(\"Did you collect all keys? (yes/no): \").lower() == \"yes\"\n",
        "completed_level: bool = input(\"Did you complete the level? (yes/no): \").lower() == \"yes\"\n",
        "collected_any_key: bool = input(\"Did you collect at least one key? (yes/no): \").lower() == \"yes\"\n",
        "\n",
        "# Rewards logic\n",
        "if score > 100 and collected_all_keys:\n",
        "    print(\"You win a BIG reward!\")\n",
        "elif collected_any_key or completed_level:\n",
        "    print(\"You win a SMALL reward!\")\n",
        "else:\n",
        "    print(\"No reward this time. Try again!\")"
      ]
    }
  ]
}