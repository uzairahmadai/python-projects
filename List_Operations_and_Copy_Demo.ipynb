{
  "nbformat": 4,
  "nbformat_minor": 0,
  "metadata": {
    "colab": {
      "provenance": [],
      "authorship_tag": "ABX9TyPAh1q4GRwwt/u88VJ92D66",
      "include_colab_link": true
    },
    "kernelspec": {
      "name": "python3",
      "display_name": "Python 3"
    },
    "language_info": {
      "name": "python"
    }
  },
  "cells": [
    {
      "cell_type": "markdown",
      "metadata": {
        "id": "view-in-github",
        "colab_type": "text"
      },
      "source": [
        "<a href=\"https://colab.research.google.com/github/uzairahmadai/python-projects/blob/main/List_Operations_and_Copy_Demo.ipynb\" target=\"_parent\"><img src=\"https://colab.research.google.com/assets/colab-badge.svg\" alt=\"Open In Colab\"/></a>"
      ]
    },
    {
      "cell_type": "markdown",
      "source": [
        "# Python Beginner Projects: List Operations & Copy Behavior  \n",
        "**Course:** Certified Agentic and Robotic AI Engineer (CAE) – PIAIC  \n",
        "**Concepts:** List Methods · Pop · Insert · Append · Sort · Shallow vs Deep Copy  \n",
        "\n",
        "---\n",
        "\n",
        "### Project 2: List Operations Demo\n",
        "- Append, Insert, Pop, Remove, Sort, Reverse a list\n",
        "- No loops, no functions — just method-based demos\n",
        "\n",
        "---\n",
        "\n",
        "### Project 3: Shallow vs. Deep Copy Demo\n",
        "- Show what happens with `=` (reference copy)\n",
        "- Show how `.copy()` creates independent copies\n",
        "- Use slicing `[:]` to create another deep copy\n",
        "\n",
        "This notebook combines two beginner-friendly projects in one — built entirely using the list concepts learned in class.\n",
        "\n"
      ],
      "metadata": {
        "id": "f34PcaIpIAEp"
      }
    },
    {
      "cell_type": "code",
      "execution_count": 2,
      "metadata": {
        "id": "7VKtDM8AH-H-",
        "colab": {
          "base_uri": "https://localhost:8080/"
        },
        "outputId": "fe134c3b-58ad-4a1d-89cb-0e19b4864e4c"
      },
      "outputs": [
        {
          "output_type": "stream",
          "name": "stdout",
          "text": [
            "Initial list: ['apple', 'banana', 'cherry']\n",
            "After appending 'mango': ['apple', 'banana', 'cherry', 'mango']\n",
            "After inserting 'orange' at index 1: ['apple', 'orange', 'banana', 'cherry', 'mango']\n",
            "After popping the last item: ['apple', 'orange', 'banana', 'cherry']\n",
            "Popped item: mango\n",
            "After removing 'banana': ['apple', 'orange', 'cherry']\n",
            "After sorting: ['apple', 'cherry', 'orange']\n",
            "After reversing: ['orange', 'cherry', 'apple']\n"
          ]
        }
      ],
      "source": [
        "# Project: List Operations Demo (Beginner Level)\n",
        "\n",
        "# Initial list\n",
        "fruits: list[str] = [\"apple\", \"banana\", \"cherry\"]\n",
        "print(\"Initial list:\", fruits)\n",
        "\n",
        "# Append new item\n",
        "fruits.append(\"mango\")\n",
        "print(\"After appending 'mango':\", fruits)\n",
        "\n",
        "# Insert item at position 1\n",
        "fruits.insert(1, \"orange\")\n",
        "print(\"After inserting 'orange' at index 1:\", fruits)\n",
        "\n",
        "# Pop last item\n",
        "last_fruit: str = fruits.pop()\n",
        "print(\"After popping the last item:\", fruits)\n",
        "print(\"Popped item:\", last_fruit)\n",
        "\n",
        "# Remove a specific item by value\n",
        "fruits.remove(\"banana\")\n",
        "print(\"After removing 'banana':\", fruits)\n",
        "\n",
        "# Sort the list in ascending order\n",
        "fruits.sort()\n",
        "print(\"After sorting:\", fruits)\n",
        "\n",
        "# Reverse the list\n",
        "fruits.reverse()\n",
        "print(\"After reversing:\", fruits)"
      ]
    },
    {
      "cell_type": "markdown",
      "source": [],
      "metadata": {
        "id": "Ess6TePOgfJm"
      }
    },
    {
      "cell_type": "code",
      "source": [
        "# Project 3: Shallow vs. Deep Copy Demo\n",
        "\n",
        "# Shallow copy\n",
        "original: list[str] = ['a', 'b', 'c']\n",
        "copy_shallow = original  # Just a reference\n",
        "print(\"Original list:\", original)\n",
        "print(\"Shallow copy:\", copy_shallow)\n",
        "\n",
        "original.append('x')\n",
        "print(\"After modifying original:\")\n",
        "print(\"Original:\", original)\n",
        "print(\"Shallow copy:\", copy_shallow)\n",
        "\n",
        "# Deep copy using .copy()\n",
        "original = ['a', 'b', 'c']\n",
        "copy_deep = original.copy()\n",
        "original.append('y')\n",
        "print(\"\\nOriginal (after .copy() and modifying):\", original)\n",
        "print(\"Deep copy:\", copy_deep)\n",
        "\n",
        "# Deep copy using slicing\n",
        "copy_sliced = original[:]\n",
        "original.append('z')\n",
        "print(\"\\nOriginal (after slicing and modifying):\", original)\n",
        "print(\"Sliced copy:\", copy_sliced)"
      ],
      "metadata": {
        "colab": {
          "base_uri": "https://localhost:8080/"
        },
        "id": "FE52HHpzggRl",
        "outputId": "0e90f4fa-ca02-4457-8a7c-4bbe9ecdba96"
      },
      "execution_count": 1,
      "outputs": [
        {
          "output_type": "stream",
          "name": "stdout",
          "text": [
            "Original list: ['a', 'b', 'c']\n",
            "Shallow copy: ['a', 'b', 'c']\n",
            "After modifying original:\n",
            "Original: ['a', 'b', 'c', 'x']\n",
            "Shallow copy: ['a', 'b', 'c', 'x']\n",
            "\n",
            "Original (after .copy() and modifying): ['a', 'b', 'c', 'y']\n",
            "Deep copy: ['a', 'b', 'c']\n",
            "\n",
            "Original (after slicing and modifying): ['a', 'b', 'c', 'y', 'z']\n",
            "Sliced copy: ['a', 'b', 'c', 'y']\n"
          ]
        }
      ]
    }
  ]
}