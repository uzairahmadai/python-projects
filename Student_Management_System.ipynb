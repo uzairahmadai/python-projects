{
  "nbformat": 4,
  "nbformat_minor": 0,
  "metadata": {
    "colab": {
      "provenance": [],
      "authorship_tag": "ABX9TyM6uHZOP7rUD5WYTVRLBk+k",
      "include_colab_link": true
    },
    "kernelspec": {
      "name": "python3",
      "display_name": "Python 3"
    },
    "language_info": {
      "name": "python"
    }
  },
  "cells": [
    {
      "cell_type": "markdown",
      "metadata": {
        "id": "view-in-github",
        "colab_type": "text"
      },
      "source": [
        "<a href=\"https://colab.research.google.com/github/uzairahmadai/python-projects/blob/main/Student_Management_System.ipynb\" target=\"_parent\"><img src=\"https://colab.research.google.com/assets/colab-badge.svg\" alt=\"Open In Colab\"/></a>"
      ]
    },
    {
      "cell_type": "markdown",
      "source": [
        "# Python Project: Student Management System  \n",
        "**Course:** Certified Agentic and Robotic AI Engineer (CAE) – PIAIC  \n",
        "**Concepts:** Python Lists · Append · Remove · Sort · Count  \n",
        "\n",
        "---\n",
        "\n",
        "###Project Requirements:\n",
        "- Add a new student\n",
        "- Remove a student by name\n",
        "- Display all students in alphabetical order\n",
        "- Count the total number of students\n",
        "\n",
        "No loops, conditions, or functions used – beginner level only.\n"
      ],
      "metadata": {
        "id": "ogQv7NX_-ikO"
      }
    },
    {
      "cell_type": "code",
      "execution_count": null,
      "metadata": {
        "id": "6DkdhIdB-hky"
      },
      "outputs": [],
      "source": [
        "# Project Title\n",
        "# Student Management System (Beginner Level)\n",
        "\n",
        "students: list[str] = [\"Ahmad\", \"Ali\", \"Kashif\"]\n",
        "\n",
        "# 1. Add a new student\n",
        "students.append(\"Usman\")\n",
        "print(\"After adding a new student:\")\n",
        "print(students)\n",
        "\n",
        "# 2. Remove a student by name\n",
        "students.remove(\"Ali\")\n",
        "print(\"After removing 'Ali':\")\n",
        "print(students)\n",
        "\n",
        "# 3. Display all students in alphabetical order\n",
        "# Using sorted() to show a copy, without changing original list\n",
        "print(\"Students in alphabetical order:\")\n",
        "print(sorted(students))\n",
        "\n",
        "# 4. Count total students\n",
        "total = len(students)\n",
        "print(\"Total number of students:\")\n",
        "print(total)"
      ]
    }
  ]
}