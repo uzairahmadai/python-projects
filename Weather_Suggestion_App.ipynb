{
  "nbformat": 4,
  "nbformat_minor": 0,
  "metadata": {
    "colab": {
      "provenance": [],
      "authorship_tag": "ABX9TyMbhS4X6gg7a+G5e+9V+RnN",
      "include_colab_link": true
    },
    "kernelspec": {
      "name": "python3",
      "display_name": "Python 3"
    },
    "language_info": {
      "name": "python"
    }
  },
  "cells": [
    {
      "cell_type": "markdown",
      "metadata": {
        "id": "view-in-github",
        "colab_type": "text"
      },
      "source": [
        "<a href=\"https://colab.research.google.com/github/uzairahmadai/python-projects/blob/main/Weather_Suggestion_App.ipynb\" target=\"_parent\"><img src=\"https://colab.research.google.com/assets/colab-badge.svg\" alt=\"Open In Colab\"/></a>"
      ]
    },
    {
      "cell_type": "markdown",
      "source": [
        "# Python Project: Weather Suggestion App  \n",
        "**Course:** Certified Agentic and Robotic AI Engineer (CAE) – PIAIC  \n",
        "**Concepts:** Conditional Statements · if/elif/else · Ternary Operator · User Input  \n",
        "\n",
        "---\n",
        "\n",
        "### Project Tasks:\n",
        "1. Ask the user to enter the current weather (e.g., sunny, rainy, cloudy)\n",
        "2. Use `if/elif/else` to suggest an activity\n",
        "3. Then use the ternary operator for a simple condition\n",
        "\n",
        "This beginner-friendly project shows how Python can make decisions and respond to user input based on real-world scenarios.\n"
      ],
      "metadata": {
        "id": "JSf6DxiUZdu9"
      }
    },
    {
      "cell_type": "code",
      "execution_count": 2,
      "metadata": {
        "colab": {
          "base_uri": "https://localhost:8080/"
        },
        "id": "5e0_SHhMZY5U",
        "outputId": "cb6535d7-104f-465d-b256-14b27e630887"
      },
      "outputs": [
        {
          "output_type": "stream",
          "name": "stdout",
          "text": [
            "What is the current weather? (sunny / rainy / cloudy / snowy): snowy\n",
            "Stay warm! Build a snowman if you can.\n"
          ]
        }
      ],
      "source": [
        "# Project 1: Weather Suggestion App – Full if/elif/else version\n",
        "\n",
        "weather: str = input(\"What is the current weather? (sunny / rainy / cloudy / snowy): \").lower()\n",
        "\n",
        "if weather == \"sunny\":\n",
        "    print(\"It's a beautiful day! Go for a walk.\")\n",
        "elif weather == \"rainy\":\n",
        "    print(\"Don't forget your umbrella. Maybe read a book indoors.\")\n",
        "elif weather == \"cloudy\":\n",
        "    print(\"Good day to relax or catch up on work.\")\n",
        "elif weather == \"snowy\":\n",
        "    print(\"Stay warm! Build a snowman if you can.\")\n",
        "else:\n",
        "    print(\"Couldn't recognize the weather. Try sunny, rainy, cloudy, or snowy.\")"
      ]
    },
    {
      "cell_type": "code",
      "source": [
        "# Ternary operator version (shortened decision)\n",
        "\n",
        "weather: str = input(\"Enter weather again (sunny / rainy): \").lower()\n",
        "\n",
        "# If sunny → walk, else → stay in\n",
        "suggestion = \"Go for a walk.\" if weather == \"sunny\" else \"Stay indoors and read a book.\"\n",
        "print(suggestion)"
      ],
      "metadata": {
        "colab": {
          "base_uri": "https://localhost:8080/"
        },
        "id": "qUAL7kFQaHNw",
        "outputId": "b9e194b5-3560-47a7-d1ed-c693b2878bcd"
      },
      "execution_count": 3,
      "outputs": [
        {
          "output_type": "stream",
          "name": "stdout",
          "text": [
            "Enter weather again (sunny / rainy): sunny\n",
            "Go for a walk.\n"
          ]
        }
      ]
    }
  ]
}