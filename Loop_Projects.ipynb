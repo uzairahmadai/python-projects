{
  "nbformat": 4,
  "nbformat_minor": 0,
  "metadata": {
    "colab": {
      "provenance": [],
      "authorship_tag": "ABX9TyPMIah1e+miZGCzADGV1+Xa",
      "include_colab_link": true
    },
    "kernelspec": {
      "name": "python3",
      "display_name": "Python 3"
    },
    "language_info": {
      "name": "python"
    }
  },
  "cells": [
    {
      "cell_type": "markdown",
      "metadata": {
        "id": "view-in-github",
        "colab_type": "text"
      },
      "source": [
        "<a href=\"https://colab.research.google.com/github/uzairahmadai/python-projects/blob/main/Loop_Projects.ipynb\" target=\"_parent\"><img src=\"https://colab.research.google.com/assets/colab-badge.svg\" alt=\"Open In Colab\"/></a>"
      ]
    },
    {
      "cell_type": "markdown",
      "source": [
        "### Project 1: Squaring a List\n",
        "\n",
        "**Objective:**  \n",
        "Build a Python program that:\n",
        "- Initializes an empty list called `squares`\n",
        "- Uses a `for` loop to iterate from 1 to 5\n",
        "- Calculates each square and appends it to the list\n",
        "- Prints the final `squares` list"
      ],
      "metadata": {
        "id": "Zs82GK3v-gCy"
      }
    },
    {
      "cell_type": "code",
      "execution_count": 1,
      "metadata": {
        "colab": {
          "base_uri": "https://localhost:8080/"
        },
        "id": "-3Ghsgcz-bbQ",
        "outputId": "d1ddc615-2ab8-4c98-b0bf-d09ad6f8326e"
      },
      "outputs": [
        {
          "output_type": "stream",
          "name": "stdout",
          "text": [
            "Squares from 1 to 5: [1, 4, 9, 16, 25]\n"
          ]
        }
      ],
      "source": [
        "squares = []\n",
        "\n",
        "for number in range(1, 6):\n",
        "    squares.append(number ** 2)\n",
        "\n",
        "print(\"Squares from 1 to 5:\", squares)\n"
      ]
    },
    {
      "cell_type": "markdown",
      "source": [
        "### Project 2: Squaring Even Numbers\n",
        "\n",
        "**Objective:**  \n",
        "Build a Python program that:\n",
        "- Initializes an empty list called `even_squares`\n",
        "- Uses a `for` loop to iterate from 1 to 10\n",
        "- Checks if a number is even\n",
        "- If it is, calculates its square and appends to the list\n",
        "- Prints the final `even_squares` list"
      ],
      "metadata": {
        "id": "bo6D79scCBMu"
      }
    },
    {
      "cell_type": "code",
      "source": [
        "even_squares = []\n",
        "\n",
        "for number in range(1, 11):\n",
        "    if number % 2 == 0:\n",
        "        even_squares.append(number ** 2)\n",
        "\n",
        "print(\"Squares of even numbers from 1 to 10:\", even_squares)"
      ],
      "metadata": {
        "colab": {
          "base_uri": "https://localhost:8080/"
        },
        "id": "E0KoeRENCGfR",
        "outputId": "1e44371d-3f79-4bef-bbfd-7a959e2ac54d"
      },
      "execution_count": 2,
      "outputs": [
        {
          "output_type": "stream",
          "name": "stdout",
          "text": [
            "Squares of even numbers from 1 to 10: [4, 16, 36, 64, 100]\n"
          ]
        }
      ]
    },
    {
      "cell_type": "markdown",
      "source": [
        "### Project 3: Automated Invitation System\n",
        "\n",
        "**Objective:**  \n",
        "Create a Python program that:\n",
        "- Takes a list of friend names\n",
        "- Uses a `for` loop to send a personalized invitation message to each friend\n",
        "- Each message should follow the format:  \n",
        "  `\"Hi [Name], you’re invited to my birthday party!\"`"
      ],
      "metadata": {
        "id": "zLOErfddCWYy"
      }
    },
    {
      "cell_type": "code",
      "source": [
        "friends = [\"Osama\", \"Abdullah\", \"Zeeshan\", \"Hamza\", \"Adnan\"]\n",
        "\n",
        "for friend in friends:\n",
        "    print(f\"Hi {friend}, you’re invited to my birthday party!\")"
      ],
      "metadata": {
        "colab": {
          "base_uri": "https://localhost:8080/"
        },
        "id": "M73bUu_tCZMF",
        "outputId": "d0495646-ea3d-450a-be99-1dbb611f50ce"
      },
      "execution_count": 3,
      "outputs": [
        {
          "output_type": "stream",
          "name": "stdout",
          "text": [
            "Hi Osama, you’re invited to my birthday party!\n",
            "Hi Abdullah, you’re invited to my birthday party!\n",
            "Hi Zeeshan, you’re invited to my birthday party!\n",
            "Hi Hamza, you’re invited to my birthday party!\n",
            "Hi Adnan, you’re invited to my birthday party!\n"
          ]
        }
      ]
    },
    {
      "cell_type": "markdown",
      "source": [
        "### Project 4: Password Checker\n",
        "\n",
        "**Objective:**  \n",
        "Develop a Python program that:\n",
        "- Continuously prompts the user to enter a password\n",
        "- Displays an error message for incorrect attempts\n",
        "- Grants access when the correct password is entered  \n",
        "- Use a `while` loop to repeat until the correct input is received"
      ],
      "metadata": {
        "id": "OIwGHkM7CwwL"
      }
    },
    {
      "cell_type": "code",
      "source": [
        "correct_password = \"Pass123\"\n",
        "user_input = \"\"\n",
        "\n",
        "while user_input != correct_password:\n",
        "    user_input = input(\"Enter your password: \")\n",
        "\n",
        "print(\"Access granted!\")"
      ],
      "metadata": {
        "colab": {
          "base_uri": "https://localhost:8080/"
        },
        "id": "cfkBfC9NCy8i",
        "outputId": "f9d31ced-e5d0-4f28-f22b-6c55764886af"
      },
      "execution_count": 5,
      "outputs": [
        {
          "output_type": "stream",
          "name": "stdout",
          "text": [
            "Enter your password: 432psa\n",
            "Enter your password: Pass123\n",
            "Access granted!\n"
          ]
        }
      ]
    },
    {
      "cell_type": "markdown",
      "source": [
        "### Project 5: Number Analysis\n",
        "\n",
        "**Objective:**  \n",
        "Create a Python program that:\n",
        "- Asks the user to input a start and end number\n",
        "- Uses a `for` loop to iterate through that range\n",
        "- Skips numbers divisible by 5 using `continue`\n",
        "- Adds up only even numbers (excluding those divisible by 5)\n",
        "- Prints the final sum of valid even numbers"
      ],
      "metadata": {
        "id": "kzvtOo-VDh7K"
      }
    },
    {
      "cell_type": "code",
      "source": [
        "start = int(input(\"Enter start of range: \"))\n",
        "end = int(input(\"Enter end of range: \"))\n",
        "\n",
        "even_sum = 0\n",
        "\n",
        "for num in range(start, end + 1):\n",
        "    if num % 5 == 0:\n",
        "        continue\n",
        "    if num % 2 == 0:\n",
        "        even_sum += num\n",
        "\n",
        "print(f\"Sum of even numbers (excluding those divisible by 5): {even_sum}\")"
      ],
      "metadata": {
        "colab": {
          "base_uri": "https://localhost:8080/"
        },
        "id": "zk6tcyFaDkLZ",
        "outputId": "19fbea4f-e2ce-4318-de7d-af263a3efb50"
      },
      "execution_count": 6,
      "outputs": [
        {
          "output_type": "stream",
          "name": "stdout",
          "text": [
            "Enter start of range: 5\n",
            "Enter end of range: 45\n",
            "Sum of even numbers (excluding those divisible by 5): 400\n"
          ]
        }
      ]
    },
    {
      "cell_type": "markdown",
      "source": [
        "### Project 6: Countdown Timer\n",
        "\n",
        "**Objective:**  \n",
        "Create a Python script that:\n",
        "- Uses a `while` loop to implement a countdown\n",
        "- Starts from a user-defined number and counts down to zero\n",
        "- Prints a message when the countdown completes"
      ],
      "metadata": {
        "id": "MXhJC8QuEBIw"
      }
    },
    {
      "cell_type": "code",
      "source": [
        "start = int(input(\"Enter the countdown start number: \"))\n",
        "\n",
        "while start >= 0:\n",
        "    print(start)\n",
        "    start -= 1\n",
        "\n",
        "print(\"Countdown complete!\")"
      ],
      "metadata": {
        "colab": {
          "base_uri": "https://localhost:8080/"
        },
        "id": "V_6NFhVnEEVq",
        "outputId": "d85e7c8e-8dc4-42c9-838a-85a8a2a38875"
      },
      "execution_count": 7,
      "outputs": [
        {
          "output_type": "stream",
          "name": "stdout",
          "text": [
            "Enter the countdown start number: 10\n",
            "10\n",
            "9\n",
            "8\n",
            "7\n",
            "6\n",
            "5\n",
            "4\n",
            "3\n",
            "2\n",
            "1\n",
            "0\n",
            "Countdown complete!\n"
          ]
        }
      ]
    },
    {
      "cell_type": "markdown",
      "source": [
        "### Project 7: Multiplication Table\n",
        "\n",
        "**Objective:**  \n",
        "Build a program that:\n",
        "- Prompts the user to enter a number\n",
        "- Uses a `for` loop to display the multiplication table of that number up to 10\n",
        "- Formats the output in a clean and readable way"
      ],
      "metadata": {
        "id": "ckhr96fJEcjT"
      }
    },
    {
      "cell_type": "code",
      "source": [
        "number = int(input(\"Enter a number for multiplication table: \"))\n",
        "\n",
        "for i in range(1, 11):\n",
        "    print(f\"{number} x {i} = {number * i}\")"
      ],
      "metadata": {
        "colab": {
          "base_uri": "https://localhost:8080/"
        },
        "id": "SVEPD3EWEfcq",
        "outputId": "9efea84c-9f5a-4d67-a3fb-6f49b5726167"
      },
      "execution_count": 8,
      "outputs": [
        {
          "output_type": "stream",
          "name": "stdout",
          "text": [
            "Enter a number for multiplication table: 15\n",
            "15 x 1 = 15\n",
            "15 x 2 = 30\n",
            "15 x 3 = 45\n",
            "15 x 4 = 60\n",
            "15 x 5 = 75\n",
            "15 x 6 = 90\n",
            "15 x 7 = 105\n",
            "15 x 8 = 120\n",
            "15 x 9 = 135\n",
            "15 x 10 = 150\n"
          ]
        }
      ]
    }
  ]
}