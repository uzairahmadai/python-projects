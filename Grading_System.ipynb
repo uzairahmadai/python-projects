{
  "nbformat": 4,
  "nbformat_minor": 0,
  "metadata": {
    "colab": {
      "provenance": [],
      "authorship_tag": "ABX9TyNg9fQksapX/oGsGa6Pt4nU",
      "include_colab_link": true
    },
    "kernelspec": {
      "name": "python3",
      "display_name": "Python 3"
    },
    "language_info": {
      "name": "python"
    }
  },
  "cells": [
    {
      "cell_type": "markdown",
      "metadata": {
        "id": "view-in-github",
        "colab_type": "text"
      },
      "source": [
        "<a href=\"https://colab.research.google.com/github/uzairahmadai/python-projects/blob/main/Grading_System.ipynb\" target=\"_parent\"><img src=\"https://colab.research.google.com/assets/colab-badge.svg\" alt=\"Open In Colab\"/></a>"
      ]
    },
    {
      "cell_type": "markdown",
      "source": [
        "# Python Project: Grading System  \n",
        "**Course:** Certified Agentic and Robotic AI Engineer (CAE) – PIAIC  \n",
        "**Concepts:** Conditional Statements · Nested Conditions · Input Handling\n",
        "\n",
        "---\n",
        "\n",
        "### Project Tasks:\n",
        "- Ask the user to enter their numeric score (0 to 100)\n",
        "- Use `if/elif/else` to assign a letter grade (A, B, C, F)\n",
        "- Add `+` or `−` based on their position within the grade range\n",
        "\n",
        "This project demonstrates real-world application of control flow in Python for decision making."
      ],
      "metadata": {
        "id": "VVT963jfccb4"
      }
    },
    {
      "cell_type": "code",
      "execution_count": 2,
      "metadata": {
        "colab": {
          "base_uri": "https://localhost:8080/"
        },
        "id": "QhzfisnGcbt6",
        "outputId": "7bafb573-9738-48ff-f35d-91cf942d534b"
      },
      "outputs": [
        {
          "output_type": "stream",
          "name": "stdout",
          "text": [
            "Enter your score (0–100): 95\n",
            "Your grade is: A\n"
          ]
        }
      ],
      "source": [
        "# Project 2: Grading System\n",
        "\n",
        "score: int = int(input(\"Enter your score (0–100): \"))\n",
        "\n",
        "# Determine grade\n",
        "if score >= 90:\n",
        "    grade = \"A\"\n",
        "    if score >= 97:\n",
        "        grade += \"+\"\n",
        "    elif score <= 93:\n",
        "        grade += \"-\"\n",
        "elif score >= 80:\n",
        "    grade = \"B\"\n",
        "    if score >= 87:\n",
        "        grade += \"+\"\n",
        "    elif score <= 83:\n",
        "        grade += \"-\"\n",
        "elif score >= 70:\n",
        "    grade = \"C\"\n",
        "    if score >= 77:\n",
        "        grade += \"+\"\n",
        "    elif score <= 73:\n",
        "        grade += \"-\"\n",
        "else:\n",
        "    grade = \"F\"\n",
        "\n",
        "print(f\"Your grade is: {grade}\")"
      ]
    }
  ]
}