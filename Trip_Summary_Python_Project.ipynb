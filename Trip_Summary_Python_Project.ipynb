{
  "nbformat": 4,
  "nbformat_minor": 0,
  "metadata": {
    "colab": {
      "provenance": [],
      "authorship_tag": "ABX9TyPWsj8BtQ4Y5uvHHVl6Mhx8",
      "include_colab_link": true
    },
    "kernelspec": {
      "name": "python3",
      "display_name": "Python 3"
    },
    "language_info": {
      "name": "python"
    }
  },
  "cells": [
    {
      "cell_type": "markdown",
      "metadata": {
        "id": "view-in-github",
        "colab_type": "text"
      },
      "source": [
        "<a href=\"https://colab.research.google.com/github/uzairahmadai/python-projects/blob/main/Trip_Summary_Python_Project.ipynb\" target=\"_parent\"><img src=\"https://colab.research.google.com/assets/colab-badge.svg\" alt=\"Open In Colab\"/></a>"
      ]
    },
    {
      "cell_type": "markdown",
      "source": [
        "# Python Project: Trip Summary  \n",
        "\n",
        "### **Course:** Certified Agentic and Robotic AI Engineer (CAE) – PIAIC  \n",
        "**Topic:** Variables · f-strings · Arithmetic Operators · Escape Sequence\n",
        "\n",
        "\n",
        "---\n",
        "\n",
        "This project is part of my Python learning journey in the CAE program at [PIAIC](https://piaic.org/). It applies beginner-level concepts in a practical way to simulate a formatted trip cost breakdown using Python code.\n"
      ],
      "metadata": {
        "id": "-b630nVw45ro"
      }
    },
    {
      "cell_type": "code",
      "source": [
        "# --- Trip Summary ---\n",
        "\n",
        "# Traveler Details\n",
        "traveler_name: str = \"Ahmad\"\n",
        "hometown: str = \"Peshawar\"\n",
        "destination: str = \"Karachi\"\n",
        "\n",
        "# Estimated Costs\n",
        "travel_cost: int = 10000\n",
        "accommodation_cost: int = 2000\n",
        "other_expenses: int = 2000\n",
        "\n",
        "# Total Estimated Cost\n",
        "total_cost: int = travel_cost + accommodation_cost + other_expenses\n",
        "\n",
        "print(f\"\"\"\n",
        "\\t--- Trip Summary Report ---\n",
        "\n",
        "Traveler Name:\\t\\t{traveler_name}\n",
        "Hometown:\\t\\t{hometown}\n",
        "Destination:\\t\\t{destination}\n",
        "\n",
        "Estimated Costs:\n",
        "- Travel:\\t\\tPKR {travel_cost}\n",
        "- Accommodation:\\tPKR {accommodation_cost}\n",
        "- Other Expenses:\\tPKR {other_expenses}\n",
        "\n",
        "\n",
        "Total Estimated Cost:\\tPKR {total_cost}\n",
        "\"\"\")"
      ],
      "metadata": {
        "colab": {
          "base_uri": "https://localhost:8080/"
        },
        "id": "K1oalzK45IMm",
        "outputId": "d8bd4a21-282f-442d-e2eb-590d72a5d863"
      },
      "execution_count": 1,
      "outputs": [
        {
          "output_type": "stream",
          "name": "stdout",
          "text": [
            "\n",
            "\t--- Trip Summary Report ---\n",
            "\n",
            "Traveler Name:\t\tAhmad\n",
            "Hometown:\t\tPeshawar\n",
            "Destination:\t\tKarachi\n",
            "\n",
            "Estimated Costs:\n",
            "- Travel:\t\tPKR 10000\n",
            "- Accommodation:\tPKR 2000\n",
            "- Other Expenses:\tPKR 2000\n",
            "\n",
            "\n",
            "Total Estimated Cost:\tPKR 14000\n",
            "\n"
          ]
        }
      ]
    }
  ]
}